{
 "cells": [
  {
   "cell_type": "markdown",
   "metadata": {
    "toc": "true"
   },
   "source": [
    "# Table of Contents\n",
    " <p><div class=\"lev1\"><a href=\"#Initial-costs\"><span class=\"toc-item-num\">1&nbsp;&nbsp;</span>Initial costs</a></div><div class=\"lev1\"><a href=\"#Recurring-costs\"><span class=\"toc-item-num\">2&nbsp;&nbsp;</span>Recurring costs</a></div><div class=\"lev1\"><a href=\"#Net-proceeds\"><span class=\"toc-item-num\">3&nbsp;&nbsp;</span>Net proceeds</a></div>"
   ]
  },
  {
   "cell_type": "markdown",
   "metadata": {},
   "source": [
    "Estimating where it is best to purchase a house\n",
    "\n",
    "\n",
    "- How much does it costs to own a home. http://affordanything.com/2012/01/24/mortgage-insurance-taxes-water-trash/\n",
    "- Rent vs Buy Calculator - http://www.nytimes.com/interactive/2014/upshot/buy-rent-calculator.html"
   ]
  },
  {
   "cell_type": "code",
   "execution_count": 1,
   "metadata": {
    "collapsed": true
   },
   "outputs": [],
   "source": [
    "%matplotlib inline\n",
    "\n",
    "import matplotlib.pyplot as plt\n",
    "import numpy as np # linear algebra\n",
    "import pandas as pd # data processing, CSV file I/O (e.g. pd.read_csv)"
   ]
  },
  {
   "cell_type": "code",
   "execution_count": null,
   "metadata": {
    "collapsed": true
   },
   "outputs": [],
   "source": []
  },
  {
   "cell_type": "markdown",
   "metadata": {},
   "source": [
    "# Initial costs  \n",
    "\n",
    "the costs you incur when you go to the closing for the home you are purchasing. This includes the down payment and other fees."
   ]
  },
  {
   "cell_type": "code",
   "execution_count": 111,
   "metadata": {
    "collapsed": true
   },
   "outputs": [],
   "source": [
    "closing_costs_per = 0.025"
   ]
  },
  {
   "cell_type": "markdown",
   "metadata": {},
   "source": [
    "# Recurring costs \n",
    "\n",
    "expenses you will have to pay monthly or yearly in owning your home. These include mortgage payments, condo fees (or other community living fees), maintenance and renovation costs, property taxes and homeowner’s insurance. Property taxes, the interest part of the mortgage payment and, in some cases, a portion of the common charges are tax deductible. The resulting tax savings is accounted for in each item’s totals. The mortgage payment amount increases each year for the term of the loan because the tax credit shrinks each year as the interest portion of the payments becomes smaller."
   ]
  },
  {
   "cell_type": "code",
   "execution_count": 233,
   "metadata": {
    "collapsed": true
   },
   "outputs": [],
   "source": [
    "# annual costs\n",
    "property_taxes_rate    = 0.014\n",
    "home_owner_insurance   = 0.008\n",
    "maintenance_costs      = 0.005"
   ]
  },
  {
   "cell_type": "markdown",
   "metadata": {},
   "source": []
  },
  {
   "cell_type": "markdown",
   "metadata": {},
   "source": [
    "# Net proceeds \n",
    "\n",
    "the amount of money you receive from the sale of your home minus the closing costs, which includes the broker’s commission and other fees, the remaining principal balance that you pay to your mortgage bank and any tax you have to pay on profit that exceeds your capital gains exclusion. If your total is negative, it means you have done very well: You made enough of a profit that it covered not only the cost of your home, but also all of your recurring expenses."
   ]
  },
  {
   "cell_type": "code",
   "execution_count": 234,
   "metadata": {
    "collapsed": true
   },
   "outputs": [],
   "source": []
  },
  {
   "cell_type": "code",
   "execution_count": 235,
   "metadata": {
    "collapsed": true
   },
   "outputs": [],
   "source": [
    "estimated_appreciation = 0.05\n",
    "inflation_rate         = 0.02"
   ]
  },
  {
   "cell_type": "code",
   "execution_count": 236,
   "metadata": {
    "collapsed": false
   },
   "outputs": [],
   "source": [
    "intial_home_value      = home_value\n",
    "closing_costs          = closing_costs_per * home_value"
   ]
  },
  {
   "cell_type": "code",
   "execution_count": 237,
   "metadata": {
    "collapsed": false
   },
   "outputs": [],
   "source": [
    "def cost_estimator(home_value, property_taxes_rate, maintenance_costs, home_owner_insurance):\n",
    "    \"\"\"\n",
    "    \n",
    "    \"\"\"\n",
    "    percent_costs = sum([property_taxes_rate, maintenance_costs, home_owner_insurance])\n",
    "    \n",
    "    return round(home_value * percent_costs)"
   ]
  },
  {
   "cell_type": "code",
   "execution_count": 238,
   "metadata": {
    "collapsed": true
   },
   "outputs": [],
   "source": [
    "def estimate_appreciation(home_value, estimated_appreciation):\n",
    "    return round(home_value * (1 + estimated_appreciation))"
   ]
  },
  {
   "cell_type": "code",
   "execution_count": 239,
   "metadata": {
    "collapsed": true
   },
   "outputs": [],
   "source": [
    "def adjust_inflation(home_value, inflation_rate):\n",
    "    return round(home_value * inflation_rate)"
   ]
  },
  {
   "cell_type": "code",
   "execution_count": 250,
   "metadata": {
    "collapsed": false
   },
   "outputs": [
    {
     "name": "stdout",
     "output_type": "stream",
     "text": [
      "893398\n",
      "104434\n",
      "77359\n"
     ]
    }
   ],
   "source": [
    "home_value = 700000\n",
    "total_costs = 0\n",
    "inflation_reduction = 0\n",
    "years_to_own = 5\n",
    "\n",
    "for year in range(years_to_own):\n",
    "    \n",
    "    inflation_reduction += adjust_inflation(home_value, inflation_rate)\n",
    "    total_costs += cost_estimator(home_value, property_taxes_rate, maintenance_costs, home_owner_insurance)\n",
    "    home_value = estimate_appreciation(home_value, estimated_appreciation)\n",
    "\n",
    "print(home_value)\n",
    "print(total_costs)\n",
    "print(inflation_reduction)"
   ]
  },
  {
   "cell_type": "code",
   "execution_count": 248,
   "metadata": {
    "collapsed": true
   },
   "outputs": [],
   "source": [
    "net_present_gain = home_value - total_costs - inflation_reduction - closing_costs"
   ]
  },
  {
   "cell_type": "code",
   "execution_count": 249,
   "metadata": {
    "collapsed": false
   },
   "outputs": [
    {
     "data": {
      "text/plain": [
       "689270.05"
      ]
     },
     "execution_count": 249,
     "metadata": {},
     "output_type": "execute_result"
    }
   ],
   "source": [
    "net_present_gain"
   ]
  },
  {
   "cell_type": "code",
   "execution_count": null,
   "metadata": {
    "collapsed": true
   },
   "outputs": [],
   "source": []
  }
 ],
 "metadata": {
  "kernelspec": {
   "display_name": "Python 3",
   "language": "python",
   "name": "python3"
  },
  "language_info": {
   "codemirror_mode": {
    "name": "ipython",
    "version": 3
   },
   "file_extension": ".py",
   "mimetype": "text/x-python",
   "name": "python",
   "nbconvert_exporter": "python",
   "pygments_lexer": "ipython3",
   "version": "3.5.0"
  },
  "toc": {
   "toc_cell": true,
   "toc_number_sections": true,
   "toc_threshold": 6,
   "toc_window_display": false
  }
 },
 "nbformat": 4,
 "nbformat_minor": 0
}
